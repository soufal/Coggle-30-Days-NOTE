{
 "cells": [
  {
   "cell_type": "markdown",
   "id": "df3fa75b-c942-446b-bb79-22db944cbf2f",
   "metadata": {},
   "source": [
    "### 30 Days of Spark\n",
    "\n",
    "#### 任务1：PySpark数据处理\n",
    "\n",
    "*    步骤1：使用Python链接Spark环境\n",
    "*    步骤2：创建dateframe数据\n",
    "*    步骤3：用spark执行以下逻辑：找到数据行数、列数\n",
    "*    步骤4：用spark筛选class为1的样本\n",
    "*    步骤5：用spark筛选language >90 或 math> 90的样本\n"
   ]
  },
  {
   "cell_type": "code",
   "execution_count": 4,
   "id": "e973dfb5-de06-4a9a-b4d7-bdb6ae50f004",
   "metadata": {},
   "outputs": [
    {
     "name": "stdout",
     "output_type": "stream",
     "text": [
      "+------+-----+--------+----+-------+------+--------+\n",
      "|number|class|language|math|english|physic|chemical|\n",
      "+------+-----+--------+----+-------+------+--------+\n",
      "|   001|    1|     100|  87|     67|    83|      98|\n",
      "|   002|    2|      87|  81|     90|    83|      83|\n",
      "|   003|    3|      86|  91|     83|    89|      63|\n",
      "|   004|    2|      65|  87|     94|    73|      88|\n",
      "|   005|    1|      76|  62|     89|    81|      98|\n",
      "|   006|    3|      84|  82|     85|    73|      99|\n",
      "|   007|    3|      56|  76|     63|    72|      87|\n",
      "|   008|    1|      55|  62|     46|    78|      71|\n",
      "|   009|    2|      63|  72|     87|    98|      64|\n",
      "+------+-----+--------+----+-------+------+--------+\n",
      "\n"
     ]
    }
   ],
   "source": [
    "# 1、使用python链接Spark环境\n",
    "import pandas as pd\n",
    "from pyspark.sql import SparkSession\n",
    "\n",
    "spark = SparkSession \\\n",
    "    .builder \\\n",
    "    .appName('pyspark') \\\n",
    "    .getOrCreate()\n",
    "# 原始数据 \n",
    "# 2、创建dataframe数据\n",
    "test = spark.createDataFrame([('001','1',100,87,67,83,98), ('002','2',87,81,90,83,83), ('003','3',86,91,83,89,63),\n",
    "                            ('004','2',65,87,94,73,88), ('005','1',76,62,89,81,98), ('006','3',84,82,85,73,99),\n",
    "                            ('007','3',56,76,63,72,87), ('008','1',55,62,46,78,71), ('009','2',63,72,87,98,64)],\n",
    "                             ['number','class','language','math','english','physic','chemical'])\n",
    "test.show()"
   ]
  },
  {
   "cell_type": "markdown",
   "id": "8fcaa9de-1d02-4ca9-b04b-282ba1114d18",
   "metadata": {},
   "source": [
    "##### 找到数据的行数和列数"
   ]
  },
  {
   "cell_type": "code",
   "execution_count": 70,
   "id": "b3102b9e-ec31-4b1b-b040-1737bffddd03",
   "metadata": {},
   "outputs": [
    {
     "name": "stdout",
     "output_type": "stream",
     "text": [
      "The length of DataFrame's columns is 7\n"
     ]
    }
   ],
   "source": [
    "# 方法一\n",
    "column_len = len(test.columns)\n",
    "print(\"The length of DataFrame's columns is %s\" % column_len)"
   ]
  },
  {
   "cell_type": "code",
   "execution_count": 71,
   "id": "3f224a4c-9eb3-431f-b589-102f945e7d19",
   "metadata": {},
   "outputs": [
    {
     "name": "stderr",
     "output_type": "stream",
     "text": [
      "                                                                                \r"
     ]
    },
    {
     "name": "stdout",
     "output_type": "stream",
     "text": [
      "The length of DataFrame's rows is 9\n"
     ]
    }
   ],
   "source": [
    "# 方法一\n",
    "row_len = len(test.collect())\n",
    "print(\"The length of DataFrame's rows is %s\" % row_len)"
   ]
  },
  {
   "cell_type": "code",
   "execution_count": 74,
   "id": "95bc76d3-a7ee-4ae5-ad57-d757c74d6c7f",
   "metadata": {},
   "outputs": [
    {
     "name": "stdout",
     "output_type": "stream",
     "text": [
      "The length of DataFrame's rows is 9\n",
      "The length of DataFrame's columns is 7\n"
     ]
    }
   ],
   "source": [
    "# 方法二\n",
    "shape = (test.count(), len(test.columns))\n",
    "\n",
    "print(\"The length of DataFrame's rows is %s\" % shape[0])\n",
    "print(\"The length of DataFrame's columns is %s\" % shape[1])"
   ]
  },
  {
   "cell_type": "code",
   "execution_count": null,
   "id": "6051cb5a-6e4d-4347-bd9c-79bea241ae2b",
   "metadata": {},
   "outputs": [],
   "source": []
  },
  {
   "cell_type": "code",
   "execution_count": 34,
   "id": "71d91095-874a-4826-9699-5f54957c0901",
   "metadata": {},
   "outputs": [
    {
     "name": "stderr",
     "output_type": "stream",
     "text": [
      "                                                                                \r"
     ]
    },
    {
     "name": "stdout",
     "output_type": "stream",
     "text": [
      "+------+-----+--------+----+-------+------+--------+\n",
      "|number|class|language|math|english|physic|chemical|\n",
      "+------+-----+--------+----+-------+------+--------+\n",
      "|   001|    1|     100|  87|     67|    83|      98|\n",
      "|   005|    1|      76|  62|     89|    81|      98|\n",
      "|   008|    1|      55|  62|     46|    78|      71|\n",
      "+------+-----+--------+----+-------+------+--------+\n",
      "\n"
     ]
    }
   ],
   "source": [
    "# 用spark筛选class为1的样本\n",
    "test.filter(test['class'] == 1).show()"
   ]
  },
  {
   "cell_type": "code",
   "execution_count": 36,
   "id": "552c7d42-be23-467b-bb54-0eed2427401d",
   "metadata": {},
   "outputs": [
    {
     "name": "stdout",
     "output_type": "stream",
     "text": [
      "+------+-----+--------+----+-------+------+--------+\n",
      "|number|class|language|math|english|physic|chemical|\n",
      "+------+-----+--------+----+-------+------+--------+\n",
      "|   001|    1|     100|  87|     67|    83|      98|\n",
      "|   003|    3|      86|  91|     83|    89|      63|\n",
      "+------+-----+--------+----+-------+------+--------+\n",
      "\n"
     ]
    }
   ],
   "source": [
    "# 用spark筛选language>90 或math>90的样本\n",
    "test.filter((test['language'] > 90) | (test['math'] > 90)).show()"
   ]
  },
  {
   "cell_type": "markdown",
   "id": "0f5da766-53ad-4ff6-a584-6006b7069633",
   "metadata": {},
   "source": [
    "-----------------------------\n",
    "\n",
    "#### 任务2：PySpark数据统计\n",
    "\n",
    "* 步骤1：读取文件https://cdn.coggle.club/Pokemon.csv\n",
    "* 步骤2：将读取的进行保存，表头也需要保存\n",
    "* 步骤3：分析每列的类型，取值个数\n",
    "* 步骤4：分析每列是否包含缺失值\n"
   ]
  },
  {
   "cell_type": "code",
   "execution_count": 39,
   "id": "b0e0c0d5-6139-433d-9f0c-129189680d21",
   "metadata": {},
   "outputs": [
    {
     "name": "stderr",
     "output_type": "stream",
     "text": [
      "                                                                                \r"
     ]
    }
   ],
   "source": [
    "from pyspark import SparkFiles\n",
    "\n",
    "# 读取文件\n",
    "spark.sparkContext.addFile('https://cdn.coggle.club/Pokemon.csv')\n",
    "\n",
    "# 将读取的进行保存\n",
    "df = spark.read.csv(\"file://\"+SparkFiles.get(\"Pokemon.csv\"), header=True, inferSchema= True)\n",
    "df = df.withColumnRenamed('Sp. Atk', 'Sp Atk')\n",
    "df = df.withColumnRenamed('Sp. Def', 'Sp Def')"
   ]
  },
  {
   "cell_type": "code",
   "execution_count": 41,
   "id": "a7cff14a-3cbe-4fdd-9acf-423872e2f1a7",
   "metadata": {},
   "outputs": [
    {
     "name": "stderr",
     "output_type": "stream",
     "text": [
      "                                                                                \r"
     ]
    },
    {
     "name": "stdout",
     "output_type": "stream",
     "text": [
      "+--------------------+------+------+-----+---+------+-------+------+------+-----+----------+---------+\n",
      "|                Name|Type 1|Type 2|Total| HP|Attack|Defense|Sp Atk|Sp Def|Speed|Generation|Legendary|\n",
      "+--------------------+------+------+-----+---+------+-------+------+------+-----+----------+---------+\n",
      "|           Bulbasaur| Grass|Poison|  318| 45|    49|     49|    65|    65|   45|         1|    false|\n",
      "|             Ivysaur| Grass|Poison|  405| 60|    62|     63|    80|    80|   60|         1|    false|\n",
      "|            Venusaur| Grass|Poison|  525| 80|    82|     83|   100|   100|   80|         1|    false|\n",
      "|VenusaurMega Venu...| Grass|Poison|  625| 80|   100|    123|   122|   120|   80|         1|    false|\n",
      "|          Charmander|  Fire|  null|  309| 39|    52|     43|    60|    50|   65|         1|    false|\n",
      "|          Charmeleon|  Fire|  null|  405| 58|    64|     58|    80|    65|   80|         1|    false|\n",
      "|           Charizard|  Fire|Flying|  534| 78|    84|     78|   109|    85|  100|         1|    false|\n",
      "|CharizardMega Cha...|  Fire|Dragon|  634| 78|   130|    111|   130|    85|  100|         1|    false|\n",
      "|CharizardMega Cha...|  Fire|Flying|  634| 78|   104|     78|   159|   115|  100|         1|    false|\n",
      "|            Squirtle| Water|  null|  314| 44|    48|     65|    50|    64|   43|         1|    false|\n",
      "|           Wartortle| Water|  null|  405| 59|    63|     80|    65|    80|   58|         1|    false|\n",
      "|           Blastoise| Water|  null|  530| 79|    83|    100|    85|   105|   78|         1|    false|\n",
      "|BlastoiseMega Bla...| Water|  null|  630| 79|   103|    120|   135|   115|   78|         1|    false|\n",
      "|            Caterpie|   Bug|  null|  195| 45|    30|     35|    20|    20|   45|         1|    false|\n",
      "|             Metapod|   Bug|  null|  205| 50|    20|     55|    25|    25|   30|         1|    false|\n",
      "|          Butterfree|   Bug|Flying|  395| 60|    45|     50|    90|    80|   70|         1|    false|\n",
      "|              Weedle|   Bug|Poison|  195| 40|    35|     30|    20|    20|   50|         1|    false|\n",
      "|              Kakuna|   Bug|Poison|  205| 45|    25|     50|    25|    25|   35|         1|    false|\n",
      "|            Beedrill|   Bug|Poison|  395| 65|    90|     40|    45|    80|   75|         1|    false|\n",
      "|BeedrillMega Beed...|   Bug|Poison|  495| 65|   150|     40|    15|    80|  145|         1|    false|\n",
      "+--------------------+------+------+-----+---+------+-------+------+------+-----+----------+---------+\n",
      "only showing top 20 rows\n",
      "\n"
     ]
    }
   ],
   "source": [
    "df.show()"
   ]
  },
  {
   "cell_type": "markdown",
   "id": "d0fa712b-4a9d-4c82-ac45-cebb6eb41cbd",
   "metadata": {},
   "source": [
    "##### 分析每一列的类型和取值个数"
   ]
  },
  {
   "cell_type": "code",
   "execution_count": 68,
   "id": "f194a853-a354-4f6b-98bd-d91ab4e680d3",
   "metadata": {},
   "outputs": [
    {
     "data": {
      "text/plain": [
       "[('Name', 'string'),\n",
       " ('Type 1', 'string'),\n",
       " ('Type 2', 'string'),\n",
       " ('Total', 'int'),\n",
       " ('HP', 'int'),\n",
       " ('Attack', 'int'),\n",
       " ('Defense', 'int'),\n",
       " ('Sp Atk', 'int'),\n",
       " ('Sp Def', 'int'),\n",
       " ('Speed', 'int'),\n",
       " ('Generation', 'int'),\n",
       " ('Legendary', 'boolean')]"
      ]
     },
     "execution_count": 68,
     "metadata": {},
     "output_type": "execute_result"
    }
   ],
   "source": [
    "# 方法一\n",
    "df.dtypes"
   ]
  },
  {
   "cell_type": "code",
   "execution_count": 69,
   "id": "752fd600-6158-429b-a815-e7e6918df206",
   "metadata": {},
   "outputs": [
    {
     "name": "stdout",
     "output_type": "stream",
     "text": [
      "root\n",
      " |-- Name: string (nullable = true)\n",
      " |-- Type 1: string (nullable = true)\n",
      " |-- Type 2: string (nullable = true)\n",
      " |-- Total: integer (nullable = true)\n",
      " |-- HP: integer (nullable = true)\n",
      " |-- Attack: integer (nullable = true)\n",
      " |-- Defense: integer (nullable = true)\n",
      " |-- Sp Atk: integer (nullable = true)\n",
      " |-- Sp Def: integer (nullable = true)\n",
      " |-- Speed: integer (nullable = true)\n",
      " |-- Generation: integer (nullable = true)\n",
      " |-- Legendary: boolean (nullable = true)\n",
      "\n"
     ]
    }
   ],
   "source": [
    "# 方法二\n",
    "df.printSchema()"
   ]
  },
  {
   "cell_type": "code",
   "execution_count": 61,
   "id": "8bdb5682-b73a-4a8e-b22c-baabbf421cc3",
   "metadata": {},
   "outputs": [
    {
     "data": {
      "text/plain": [
       "800"
      ]
     },
     "execution_count": 61,
     "metadata": {},
     "output_type": "execute_result"
    }
   ],
   "source": [
    "df.select('Name').count()"
   ]
  },
  {
   "cell_type": "code",
   "execution_count": 83,
   "id": "75f981cf-9dd7-4754-b297-8f21d733fdd4",
   "metadata": {},
   "outputs": [
    {
     "name": "stderr",
     "output_type": "stream",
     "text": [
      "                                                                                \r"
     ]
    },
    {
     "data": {
      "text/plain": [
       "799"
      ]
     },
     "execution_count": 83,
     "metadata": {},
     "output_type": "execute_result"
    }
   ],
   "source": [
    "# 方法一：以去重的思想去分析列中的取值个数\n",
    "# 可采用两种方法\n",
    "\n",
    "# df.select('Name').drop_duplicates().count()\n",
    "\n",
    "df.select('Name').distinct().count()"
   ]
  },
  {
   "cell_type": "code",
   "execution_count": 80,
   "id": "16d20aec-576a-4f92-a05c-05cd4184c46a",
   "metadata": {},
   "outputs": [],
   "source": [
    "columns_list = df.columns"
   ]
  },
  {
   "cell_type": "code",
   "execution_count": 81,
   "id": "06ca068a-5a8c-48d0-b967-2a7d2cb14cb5",
   "metadata": {},
   "outputs": [
    {
     "data": {
      "text/plain": [
       "['Name',\n",
       " 'Type 1',\n",
       " 'Type 2',\n",
       " 'Total',\n",
       " 'HP',\n",
       " 'Attack',\n",
       " 'Defense',\n",
       " 'Sp Atk',\n",
       " 'Sp Def',\n",
       " 'Speed',\n",
       " 'Generation',\n",
       " 'Legendary']"
      ]
     },
     "execution_count": 81,
     "metadata": {},
     "output_type": "execute_result"
    }
   ],
   "source": [
    "columns_list"
   ]
  },
  {
   "cell_type": "code",
   "execution_count": 95,
   "id": "5ee6ad80-0396-480d-9e0e-b892452667dd",
   "metadata": {},
   "outputs": [
    {
     "name": "stdout",
     "output_type": "stream",
     "text": [
      "列 Name 的取值为：799\n",
      "列 Type 1 的取值为：18\n",
      "列 Type 2 的取值为：19\n",
      "列 Total 的取值为：200\n",
      "列 HP 的取值为：94\n",
      "列 Attack 的取值为：111\n",
      "列 Defense 的取值为：103\n",
      "列 Sp Atk 的取值为：105\n",
      "列 Sp Def 的取值为：92\n",
      "列 Speed 的取值为：108\n",
      "列 Generation 的取值为：6\n",
      "列 Legendary 的取值为：2\n"
     ]
    }
   ],
   "source": [
    "for i in columns_list:\n",
    "    value = df.select(i).drop_duplicates().count()\n",
    "    print(\"列 %s 的取值为：%s\" % (i, value))"
   ]
  },
  {
   "cell_type": "code",
   "execution_count": 96,
   "id": "48fb1be7-dbea-4646-b452-e9e4454b4cde",
   "metadata": {},
   "outputs": [
    {
     "name": "stdout",
     "output_type": "stream",
     "text": [
      "[Row(Name=799)]\n",
      "[Row(Type 1=18)]\n",
      "[Row(Type 2=18)]\n",
      "[Row(Total=200)]\n",
      "[Row(HP=94)]\n",
      "[Row(Attack=111)]\n",
      "[Row(Defense=103)]\n",
      "[Row(Sp Atk=105)]\n",
      "[Row(Sp Def=92)]\n",
      "[Row(Speed=108)]\n",
      "[Row(Generation=6)]\n",
      "[Row(Legendary=2)]\n"
     ]
    }
   ],
   "source": [
    "# 方法二：使用聚合函数 countDistinct\n",
    "import pyspark.sql.functions as F\n",
    "for i in columns_list:\n",
    "    print(df.agg(F.countDistinct(i).alias(i)).collect())\n",
    "\n"
   ]
  },
  {
   "cell_type": "markdown",
   "id": "76f89a3f-766a-4a42-95ab-311386e94a80",
   "metadata": {},
   "source": [
    "> 会发现上面的两个结果中，对于列“Type 2”的结果有所不同， 检查数据后发现是因为“Type 2”中包含有却是之的数据，在第一种方法中，会将空值“NULL”当作一个值去统计，而使用`countDisinct`函数，他会排除出空值数据后再进行统计。\n",
    "> 下面先分析每列中是否包含有缺失值，然后再重新使用方法一统计。"
   ]
  },
  {
   "cell_type": "markdown",
   "id": "a69dcf6d-7fc9-4355-9179-f360829cd1c8",
   "metadata": {},
   "source": [
    "##### 分析每列是否包含缺失值"
   ]
  },
  {
   "cell_type": "code",
   "execution_count": 101,
   "id": "c6f38457-29ae-4052-865e-49eb763802fa",
   "metadata": {},
   "outputs": [
    {
     "name": "stdout",
     "output_type": "stream",
     "text": [
      "列 Name 的取值为：799\n",
      "列 Type 1 的取值为：18\n",
      "列 Type 2 的取值为：18\n",
      "列 Total 的取值为：200\n",
      "列 HP 的取值为：94\n",
      "列 Attack 的取值为：111\n",
      "列 Defense 的取值为：103\n",
      "列 Sp Atk 的取值为：105\n",
      "列 Sp Def 的取值为：92\n",
      "列 Speed 的取值为：108\n",
      "列 Generation 的取值为：6\n",
      "列 Legendary 的取值为：2\n"
     ]
    }
   ],
   "source": [
    "# 增加对每一列进行去重处理后再统计取值\n",
    "for i in columns_list:\n",
    "    value = df.select(i).dropna().drop_duplicates().count()\n",
    "    print(\"列 %s 的取值为：%s\" % (i, value))"
   ]
  },
  {
   "cell_type": "code",
   "execution_count": 117,
   "id": "4282d716-d130-4162-8186-01b3906e42d5",
   "metadata": {},
   "outputs": [
    {
     "name": "stdout",
     "output_type": "stream",
     "text": [
      "+----+------+-------------------+-----+---+------+-------+------+------+-----+----------+---------+\n",
      "|Name|Type 1|             Type 2|Total| HP|Attack|Defense|Sp Atk|Sp Def|Speed|Generation|Legendary|\n",
      "+----+------+-------------------+-----+---+------+-------+------+------+-----+----------+---------+\n",
      "| 0.0|   0.0|0.48250000000000004|  0.0|0.0|   0.0|    0.0|   0.0|   0.0|  0.0|       0.0|      0.0|\n",
      "+----+------+-------------------+-----+---+------+-------+------+------+-----+----------+---------+\n",
      "\n"
     ]
    }
   ],
   "source": [
    "#统计每列数据缺失占比情况\n",
    "df.agg(*[(1 - (F.count(c) / F.count('*'))).alias(c) for c in df.columns]).show()"
   ]
  },
  {
   "cell_type": "code",
   "execution_count": 115,
   "id": "83c280e8-5e00-41c9-8ff5-18c43b9595cb",
   "metadata": {},
   "outputs": [],
   "source": [
    "# 分析每列中缺失值个数\n",
    "df_agg = df.agg(*[F.count(F.when(F.isnull(c), c)).alias(c) for c in df.columns])"
   ]
  },
  {
   "cell_type": "code",
   "execution_count": 116,
   "id": "14853a8a-4db7-45bc-9d1b-c3d1798873ee",
   "metadata": {},
   "outputs": [
    {
     "name": "stdout",
     "output_type": "stream",
     "text": [
      "+----+------+------+-----+---+------+-------+------+------+-----+----------+---------+\n",
      "|Name|Type 1|Type 2|Total| HP|Attack|Defense|Sp Atk|Sp Def|Speed|Generation|Legendary|\n",
      "+----+------+------+-----+---+------+-------+------+------+-----+----------+---------+\n",
      "|   0|     0|   386|    0|  0|     0|      0|     0|     0|    0|         0|        0|\n",
      "+----+------+------+-----+---+------+-------+------+------+-----+----------+---------+\n",
      "\n"
     ]
    }
   ],
   "source": [
    "df_agg.show()"
   ]
  },
  {
   "cell_type": "markdown",
   "id": "31be5f4c",
   "metadata": {},
   "source": [
    "---------------------------------------------------\n",
    "\n",
    "#### 任务三：\n",
    "\n",
    "* 步骤1：读取文件https://cdn.coggle.club/Pokemon.csv\n",
    "* 步骤2：学习groupby分组聚合的使用\n",
    "* 步骤3：学习agg分组聚合的使用\n",
    "* 步骤4：学习transform的使用\n",
    "* 步骤5：使用groupby、agg、transform，统计数据在Type 1分组下 HP的均值"
   ]
  },
  {
   "cell_type": "code",
   "execution_count": 1,
   "id": "0a398fe4",
   "metadata": {},
   "outputs": [
    {
     "name": "stderr",
     "output_type": "stream",
     "text": [
      "22/03/09 22:14:22 WARN Utils: Your hostname, DESKTOP-4IJUD8K resolves to a loopback address: 127.0.1.1; using 192.168.31.58 instead (on interface eth0)\n",
      "22/03/09 22:14:22 WARN Utils: Set SPARK_LOCAL_IP if you need to bind to another address\n",
      "WARNING: An illegal reflective access operation has occurred\n",
      "WARNING: Illegal reflective access by org.apache.spark.unsafe.Platform (file:/home/soufal/.local/lib/python3.8/site-packages/pyspark/jars/spark-unsafe_2.12-3.2.1.jar) to constructor java.nio.DirectByteBuffer(long,int)\n",
      "WARNING: Please consider reporting this to the maintainers of org.apache.spark.unsafe.Platform\n",
      "WARNING: Use --illegal-access=warn to enable warnings of further illegal reflective access operations\n",
      "WARNING: All illegal access operations will be denied in a future release\n",
      "Using Spark's default log4j profile: org/apache/spark/log4j-defaults.properties\n",
      "Setting default log level to \"WARN\".\n",
      "To adjust logging level use sc.setLogLevel(newLevel). For SparkR, use setLogLevel(newLevel).\n",
      "22/03/09 22:14:22 WARN NativeCodeLoader: Unable to load native-hadoop library for your platform... using builtin-java classes where applicable\n"
     ]
    }
   ],
   "source": [
    "from pyspark import SparkFiles\n",
    "\n",
    "from pyspark.sql import SparkSession\n",
    "\n",
    "spark = SparkSession \\\n",
    "    .builder \\\n",
    "    .appName('pyspark') \\\n",
    "    .getOrCreate()\n",
    "spark.sparkContext.addFile('https://cdn.coggle.club/Pokemon.csv')\n",
    "\n",
    "df = spark.read.csv(\"file://\"+SparkFiles.get(\"Pokemon.csv\"), header=True, inferSchema= True)\n",
    "df = df.withColumnRenamed('Sp. Atk', 'Sp Atk')\n",
    "df = df.withColumnRenamed('Sp. Def', 'Sp Def')"
   ]
  },
  {
   "cell_type": "markdown",
   "id": "a11ebb81-78cd-4fe2-9eb9-7195661795b6",
   "metadata": {},
   "source": [
    "##### 步骤2：学习groupby分组聚合的使用\n",
    "\n",
    "PySpark DataFrame 还提供了一种使用常用方法拆分-应用-组合策略来处理分组数据的方法。按特定条件对数据进行分组，对每个组应用一个函数，然后将它们组合回 DataFrame。"
   ]
  },
  {
   "cell_type": "code",
   "execution_count": 2,
   "id": "a8984893-c421-4963-8f67-1ccf9eb12590",
   "metadata": {},
   "outputs": [
    {
     "name": "stdout",
     "output_type": "stream",
     "text": [
      "+--------------------+------+------+-----+---+------+-------+------+------+-----+----------+---------+\n",
      "|                Name|Type 1|Type 2|Total| HP|Attack|Defense|Sp Atk|Sp Def|Speed|Generation|Legendary|\n",
      "+--------------------+------+------+-----+---+------+-------+------+------+-----+----------+---------+\n",
      "|           Bulbasaur| Grass|Poison|  318| 45|    49|     49|    65|    65|   45|         1|    false|\n",
      "|             Ivysaur| Grass|Poison|  405| 60|    62|     63|    80|    80|   60|         1|    false|\n",
      "|            Venusaur| Grass|Poison|  525| 80|    82|     83|   100|   100|   80|         1|    false|\n",
      "|VenusaurMega Venu...| Grass|Poison|  625| 80|   100|    123|   122|   120|   80|         1|    false|\n",
      "|          Charmander|  Fire|  null|  309| 39|    52|     43|    60|    50|   65|         1|    false|\n",
      "|          Charmeleon|  Fire|  null|  405| 58|    64|     58|    80|    65|   80|         1|    false|\n",
      "|           Charizard|  Fire|Flying|  534| 78|    84|     78|   109|    85|  100|         1|    false|\n",
      "|CharizardMega Cha...|  Fire|Dragon|  634| 78|   130|    111|   130|    85|  100|         1|    false|\n",
      "|CharizardMega Cha...|  Fire|Flying|  634| 78|   104|     78|   159|   115|  100|         1|    false|\n",
      "|            Squirtle| Water|  null|  314| 44|    48|     65|    50|    64|   43|         1|    false|\n",
      "|           Wartortle| Water|  null|  405| 59|    63|     80|    65|    80|   58|         1|    false|\n",
      "|           Blastoise| Water|  null|  530| 79|    83|    100|    85|   105|   78|         1|    false|\n",
      "|BlastoiseMega Bla...| Water|  null|  630| 79|   103|    120|   135|   115|   78|         1|    false|\n",
      "|            Caterpie|   Bug|  null|  195| 45|    30|     35|    20|    20|   45|         1|    false|\n",
      "|             Metapod|   Bug|  null|  205| 50|    20|     55|    25|    25|   30|         1|    false|\n",
      "|          Butterfree|   Bug|Flying|  395| 60|    45|     50|    90|    80|   70|         1|    false|\n",
      "|              Weedle|   Bug|Poison|  195| 40|    35|     30|    20|    20|   50|         1|    false|\n",
      "|              Kakuna|   Bug|Poison|  205| 45|    25|     50|    25|    25|   35|         1|    false|\n",
      "|            Beedrill|   Bug|Poison|  395| 65|    90|     40|    45|    80|   75|         1|    false|\n",
      "|BeedrillMega Beed...|   Bug|Poison|  495| 65|   150|     40|    15|    80|  145|         1|    false|\n",
      "+--------------------+------+------+-----+---+------+-------+------+------+-----+----------+---------+\n",
      "only showing top 20 rows\n",
      "\n"
     ]
    }
   ],
   "source": [
    "df.show()"
   ]
  },
  {
   "cell_type": "markdown",
   "id": "5500e9b0-811b-418a-b13e-6222a318fbac",
   "metadata": {},
   "source": [
    "`df.groupby()`后可以使用自带基本统计功能的方法得到对应的结果（类似Pandas中GroupBy的用法）：\n",
    "\n",
    "其中可以指定返回某一列或某几列的统计结果。\n",
    "\n",
    "* `.count()`：返回每一组的数量，也就是行数。\n",
    "* `.mean()`：返回每一组的mean。\n",
    "* `.avg()`： 返回每一组的average。\n",
    "* `.sum()`：返回每一组的总和。\n",
    "* `.max()`：返回每一组的最大值。\n",
    "* `.min()`：返回每一组的最小值。\n",
    "\n",
    "\n",
    "> 均值(mean)是对恒定的真实值进行测量后，把测量偏离于真实值的所有值进行平均所得的结果；平均值(average)直接对一系列具有内部差异的数值进行的测量值进行的平均结果。均值是“观测值的平均”，平均值是“统计量的平均”"
   ]
  },
  {
   "cell_type": "code",
   "execution_count": 5,
   "id": "d331cdd1-e9ac-44f9-bc82-24c5af5a5f28",
   "metadata": {},
   "outputs": [
    {
     "name": "stdout",
     "output_type": "stream",
     "text": [
      "+--------+-----+\n",
      "|  Type 1|count|\n",
      "+--------+-----+\n",
      "|   Water|  112|\n",
      "|  Poison|   28|\n",
      "|   Steel|   27|\n",
      "|    Rock|   44|\n",
      "|     Ice|   24|\n",
      "|   Ghost|   32|\n",
      "|   Fairy|   17|\n",
      "| Psychic|   57|\n",
      "|  Dragon|   32|\n",
      "|  Flying|    4|\n",
      "|     Bug|   69|\n",
      "|Electric|   44|\n",
      "|    Fire|   52|\n",
      "|  Ground|   32|\n",
      "|    Dark|   31|\n",
      "|Fighting|   27|\n",
      "|   Grass|   70|\n",
      "|  Normal|   98|\n",
      "+--------+-----+\n",
      "\n"
     ]
    }
   ],
   "source": [
    "# 按照某一个字段分组 并统计各组的数量\n",
    "df.groupby('Type 1').count().show()"
   ]
  },
  {
   "cell_type": "code",
   "execution_count": 15,
   "id": "d79e3804-42c1-452b-a14e-50d48a841581",
   "metadata": {},
   "outputs": [
    {
     "name": "stdout",
     "output_type": "stream",
     "text": [
      "+--------+------------------+-----------------+\n",
      "|  Type 1|        avg(Total)|          avg(HP)|\n",
      "+--------+------------------+-----------------+\n",
      "|   Water|430.45535714285717|          72.0625|\n",
      "|  Poison|399.14285714285717|            67.25|\n",
      "|   Steel| 487.7037037037037|65.22222222222223|\n",
      "|    Rock|            453.75|65.36363636363636|\n",
      "|     Ice| 433.4583333333333|             72.0|\n",
      "|   Ghost|          439.5625|          64.4375|\n",
      "|   Fairy| 413.1764705882353|74.11764705882354|\n",
      "| Psychic|475.94736842105266|70.63157894736842|\n",
      "|  Dragon|         550.53125|          83.3125|\n",
      "|  Flying|             485.0|            70.75|\n",
      "|     Bug|378.92753623188406|56.88405797101449|\n",
      "|Electric|443.40909090909093|59.79545454545455|\n",
      "|    Fire| 458.0769230769231|69.90384615384616|\n",
      "|  Ground|             437.5|         73.78125|\n",
      "|    Dark|  445.741935483871|66.80645161290323|\n",
      "|Fighting|416.44444444444446|69.85185185185185|\n",
      "|   Grass|421.14285714285717|67.27142857142857|\n",
      "|  Normal|401.68367346938777|77.27551020408163|\n",
      "+--------+------------------+-----------------+\n",
      "\n"
     ]
    }
   ],
   "source": [
    "# 按照某一个字段分组 并统计各组的平均值\n",
    "df.groupby('Type 1').mean(\"Total\", \"HP\").show()"
   ]
  },
  {
   "cell_type": "code",
   "execution_count": 9,
   "id": "fd0d52a1-304f-4df6-8c71-516946ae0b59",
   "metadata": {},
   "outputs": [
    {
     "name": "stdout",
     "output_type": "stream",
     "text": [
      "+--------+------------------+-----------------+------------------+------------------+------------------+------------------+------------------+------------------+\n",
      "|  Type 1|        avg(Total)|          avg(HP)|       avg(Attack)|      avg(Defense)|       avg(Sp Atk)|       avg(Sp Def)|        avg(Speed)|   avg(Generation)|\n",
      "+--------+------------------+-----------------+------------------+------------------+------------------+------------------+------------------+------------------+\n",
      "|   Water|430.45535714285717|          72.0625| 74.15178571428571| 72.94642857142857|           74.8125| 70.51785714285714| 65.96428571428571| 2.857142857142857|\n",
      "|  Poison|399.14285714285717|            67.25| 74.67857142857143| 68.82142857142857| 60.42857142857143| 64.39285714285714| 63.57142857142857|2.5357142857142856|\n",
      "|   Steel| 487.7037037037037|65.22222222222223| 92.70370370370371|126.37037037037037| 67.51851851851852| 80.62962962962963| 55.25925925925926|3.8518518518518516|\n",
      "|    Rock|            453.75|65.36363636363636| 92.86363636363636|100.79545454545455| 63.34090909090909| 75.47727272727273| 55.90909090909091|3.4545454545454546|\n",
      "|     Ice| 433.4583333333333|             72.0|             72.75| 71.41666666666667| 77.54166666666667| 76.29166666666667|63.458333333333336|3.5416666666666665|\n",
      "|   Ghost|          439.5625|          64.4375|          73.78125|           81.1875|          79.34375|          76.46875|          64.34375|            4.1875|\n",
      "|   Fairy| 413.1764705882353|74.11764705882354|61.529411764705884| 65.70588235294117| 78.52941176470588| 84.70588235294117|48.588235294117645| 4.117647058823529|\n",
      "| Psychic|475.94736842105266|70.63157894736842| 71.45614035087719|  67.6842105263158| 98.40350877192982| 86.28070175438596| 81.49122807017544|3.3859649122807016|\n",
      "|  Dragon|         550.53125|          83.3125|           112.125|            86.375|          96.84375|          88.84375|          83.03125|             3.875|\n",
      "|  Flying|             485.0|            70.75|             78.75|             66.25|             94.25|              72.5|             102.5|               5.5|\n",
      "|     Bug|378.92753623188406|56.88405797101449| 70.97101449275362| 70.72463768115942|53.869565217391305| 64.79710144927536| 61.68115942028985| 3.217391304347826|\n",
      "|Electric|443.40909090909093|59.79545454545455|  69.0909090909091| 66.29545454545455| 90.02272727272727| 73.70454545454545|              84.5| 3.272727272727273|\n",
      "|    Fire| 458.0769230769231|69.90384615384616| 84.76923076923077| 67.76923076923077| 88.98076923076923| 72.21153846153847|  74.4423076923077|3.2115384615384617|\n",
      "|  Ground|             437.5|         73.78125|             95.75|          84.84375|          56.46875|             62.75|          63.90625|           3.15625|\n",
      "|    Dark|  445.741935483871|66.80645161290323| 88.38709677419355|  70.2258064516129| 74.64516129032258| 69.51612903225806| 76.16129032258064| 4.032258064516129|\n",
      "|Fighting|416.44444444444446|69.85185185185185| 96.77777777777777| 65.92592592592592|53.111111111111114| 64.70370370370371| 66.07407407407408|3.3703703703703702|\n",
      "|   Grass|421.14285714285717|67.27142857142857| 73.21428571428571|              70.8|              77.5| 70.42857142857143| 61.92857142857143| 3.357142857142857|\n",
      "|  Normal|401.68367346938777|77.27551020408163| 73.46938775510205|  59.8469387755102|55.816326530612244|63.724489795918366| 71.55102040816327|3.0510204081632653|\n",
      "+--------+------------------+-----------------+------------------+------------------+------------------+------------------+------------------+------------------+\n",
      "\n"
     ]
    }
   ],
   "source": [
    "# 按照某一个字段分组 并统计各组的平均值\n",
    "df.groupby('Type 1').avg().show()"
   ]
  },
  {
   "cell_type": "code",
   "execution_count": 10,
   "id": "a1eb9413-5b7b-4f4f-8de1-0c34f2a77632",
   "metadata": {},
   "outputs": [
    {
     "name": "stdout",
     "output_type": "stream",
     "text": [
      "+--------+----------+-------+-----------+------------+-----------+-----------+----------+---------------+\n",
      "|  Type 1|max(Total)|max(HP)|max(Attack)|max(Defense)|max(Sp Atk)|max(Sp Def)|max(Speed)|max(Generation)|\n",
      "+--------+----------+-------+-----------+------------+-----------+-----------+----------+---------------+\n",
      "|   Water|       770|    170|        155|         180|        180|        160|       122|              6|\n",
      "|  Poison|       535|    105|        106|         120|        100|        123|       130|              6|\n",
      "|   Steel|       700|    100|        150|         230|        150|        150|       110|              6|\n",
      "|    Rock|       700|    123|        165|         200|        160|        150|       150|              6|\n",
      "|     Ice|       580|    110|        130|         184|        130|        200|       110|              6|\n",
      "|   Ghost|       680|    150|        165|         145|        170|        135|       130|              6|\n",
      "|   Fairy|       680|    126|        131|          95|        131|        154|        99|              6|\n",
      "| Psychic|       780|    190|        190|         160|        194|        160|       180|              6|\n",
      "|  Dragon|       780|    125|        180|         130|        180|        150|       120|              6|\n",
      "|  Flying|       580|     85|        115|          80|        125|         90|       123|              6|\n",
      "|     Bug|       600|     86|        185|         230|        135|        230|       160|              6|\n",
      "|Electric|       610|     90|        123|         115|        165|        110|       140|              6|\n",
      "|    Fire|       680|    115|        160|         140|        159|        154|       126|              6|\n",
      "|  Ground|       770|    115|        180|         160|        150|        120|       120|              5|\n",
      "|    Dark|       680|    126|        150|         125|        140|        130|       125|              6|\n",
      "|Fighting|       625|    144|        145|          95|        140|        110|       118|              6|\n",
      "|   Grass|       630|    123|        132|         131|        145|        129|       145|              6|\n",
      "|  Normal|       720|    255|        160|         126|        135|        135|       135|              6|\n",
      "+--------+----------+-------+-----------+------------+-----------+-----------+----------+---------------+\n",
      "\n"
     ]
    }
   ],
   "source": [
    "# 按照某一个字段分组 并统计各组各字段的最大值\n",
    "df.groupby('Type 1').max().show()"
   ]
  },
  {
   "cell_type": "code",
   "execution_count": 13,
   "id": "bba53af2-2911-4970-9169-cc6ec8f565cc",
   "metadata": {},
   "outputs": [
    {
     "name": "stdout",
     "output_type": "stream",
     "text": [
      "+--------+-------+\n",
      "|  Type 1|max(HP)|\n",
      "+--------+-------+\n",
      "|   Water|    170|\n",
      "|  Poison|    105|\n",
      "|   Steel|    100|\n",
      "|    Rock|    123|\n",
      "|     Ice|    110|\n",
      "|   Ghost|    150|\n",
      "|   Fairy|    126|\n",
      "| Psychic|    190|\n",
      "|  Dragon|    125|\n",
      "|  Flying|     85|\n",
      "|     Bug|     86|\n",
      "|Electric|     90|\n",
      "|    Fire|    115|\n",
      "|  Ground|    115|\n",
      "|    Dark|    126|\n",
      "|Fighting|    144|\n",
      "|   Grass|    123|\n",
      "|  Normal|    255|\n",
      "+--------+-------+\n",
      "\n"
     ]
    }
   ],
   "source": [
    "# 按照某一个字段分组 返回指定字段的最大值\n",
    "df.groupby('Type 1').max(\"HP\").show()"
   ]
  },
  {
   "cell_type": "code",
   "execution_count": 11,
   "id": "a0600834-1e73-40d1-bd14-8d2f09ee70b0",
   "metadata": {},
   "outputs": [
    {
     "name": "stdout",
     "output_type": "stream",
     "text": [
      "+--------+----------+-------+-----------+------------+-----------+-----------+----------+---------------+\n",
      "|  Type 1|min(Total)|min(HP)|min(Attack)|min(Defense)|min(Sp Atk)|min(Sp Def)|min(Speed)|min(Generation)|\n",
      "+--------+----------+-------+-----------+------------+-----------+-----------+----------+---------------+\n",
      "|   Water|       200|     20|         10|          20|         10|         20|        15|              1|\n",
      "|  Poison|       245|     35|         43|          35|         30|         40|        25|              1|\n",
      "|   Steel|       300|     40|         24|          50|         24|         37|        23|              2|\n",
      "|    Rock|       280|     30|         40|          40|         10|         25|        10|              1|\n",
      "|     Ice|       250|     36|         30|          15|         30|         30|        25|              1|\n",
      "|   Ghost|       275|     20|         30|          30|         30|         33|        20|              1|\n",
      "|   Fairy|       218|     35|         20|          28|         40|         40|        15|              1|\n",
      "| Psychic|       198|     20|         20|          15|         23|         20|        20|              1|\n",
      "|  Dragon|       300|     41|         50|          35|         30|         30|        40|              1|\n",
      "|  Flying|       245|     40|         30|          35|         45|         40|        55|              5|\n",
      "|     Bug|       194|      1|         10|          30|         10|         20|         5|              1|\n",
      "|Electric|       205|     20|         30|          15|         35|         32|        35|              1|\n",
      "|    Fire|       250|     38|         30|          37|         15|         40|        20|              1|\n",
      "|  Ground|       265|     10|         40|          25|         20|         30|        10|              1|\n",
      "|    Dark|       220|     35|         50|          30|         30|         30|        20|              2|\n",
      "|Fighting|       210|     30|         35|          30|         20|         30|        25|              1|\n",
      "|   Grass|       180|     30|         27|          30|         24|         30|        10|              1|\n",
      "|  Normal|       190|     30|          5|           5|         15|         20|         5|              1|\n",
      "+--------+----------+-------+-----------+------------+-----------+-----------+----------+---------------+\n",
      "\n"
     ]
    }
   ],
   "source": [
    "# 按照某一个字段分组 并统计各组各字段的最小值\n",
    "df.groupby('Type 1').min().show()"
   ]
  },
  {
   "cell_type": "code",
   "execution_count": 12,
   "id": "6c741a30-42de-41da-aff0-e735dc54c94e",
   "metadata": {},
   "outputs": [
    {
     "name": "stdout",
     "output_type": "stream",
     "text": [
      "+--------+----------+-------+-----------+------------+-----------+-----------+----------+---------------+\n",
      "|  Type 1|sum(Total)|sum(HP)|sum(Attack)|sum(Defense)|sum(Sp Atk)|sum(Sp Def)|sum(Speed)|sum(Generation)|\n",
      "+--------+----------+-------+-----------+------------+-----------+-----------+----------+---------------+\n",
      "|   Water|     48211|   8071|       8305|        8170|       8379|       7898|      7388|            320|\n",
      "|  Poison|     11176|   1883|       2091|        1927|       1692|       1803|      1780|             71|\n",
      "|   Steel|     13168|   1761|       2503|        3412|       1823|       2177|      1492|            104|\n",
      "|    Rock|     19965|   2876|       4086|        4435|       2787|       3321|      2460|            152|\n",
      "|     Ice|     10403|   1728|       1746|        1714|       1861|       1831|      1523|             85|\n",
      "|   Ghost|     14066|   2062|       2361|        2598|       2539|       2447|      2059|            134|\n",
      "|   Fairy|      7024|   1260|       1046|        1117|       1335|       1440|       826|             70|\n",
      "| Psychic|     27129|   4026|       4073|        3858|       5609|       4918|      4645|            193|\n",
      "|  Dragon|     17617|   2666|       3588|        2764|       3099|       2843|      2657|            124|\n",
      "|  Flying|      1940|    283|        315|         265|        377|        290|       410|             22|\n",
      "|     Bug|     26146|   3925|       4897|        4880|       3717|       4471|      4256|            222|\n",
      "|Electric|     19510|   2631|       3040|        2917|       3961|       3243|      3718|            144|\n",
      "|    Fire|     23820|   3635|       4408|        3524|       4627|       3755|      3871|            167|\n",
      "|  Ground|     14000|   2361|       3064|        2715|       1807|       2008|      2045|            101|\n",
      "|    Dark|     13818|   2071|       2740|        2177|       2314|       2155|      2361|            125|\n",
      "|Fighting|     11244|   1886|       2613|        1780|       1434|       1747|      1784|             91|\n",
      "|   Grass|     29480|   4709|       5125|        4956|       5425|       4930|      4335|            235|\n",
      "|  Normal|     39365|   7573|       7200|        5865|       5470|       6245|      7012|            299|\n",
      "+--------+----------+-------+-----------+------------+-----------+-----------+----------+---------------+\n",
      "\n"
     ]
    }
   ],
   "source": [
    "# 按照某一个字段分组 并统计各组各字段的总和\n",
    "df.groupby('Type 1').sum().show()"
   ]
  },
  {
   "cell_type": "markdown",
   "id": "63c6a9f2-e830-49df-9ff9-f3a5c65c9614",
   "metadata": {},
   "source": [
    "##### 步骤3：学习agg分组聚合的使用\n",
    "\n",
    "使用 agg() 函数，可以一次计算多个聚合。即可以对多列使用不同的集合函数进行聚合\n",
    "\n"
   ]
  },
  {
   "cell_type": "code",
   "execution_count": 31,
   "id": "9213e41f-412a-419c-924d-641a0e1d13f9",
   "metadata": {},
   "outputs": [
    {
     "name": "stdout",
     "output_type": "stream",
     "text": [
      "+--------+-------+----+--------+----------+\n",
      "|  Type 1| Type 2|总数|最大HP值|最小攻击力|\n",
      "+--------+-------+----+--------+----------+\n",
      "|Fighting|Psychic|   3|      60|        40|\n",
      "|Fighting|  Steel|   2|      70|       110|\n",
      "|  Flying| Dragon|   2|      85|        30|\n",
      "|   Grass|Psychic|   2|      95|        40|\n",
      "|   Water|   null|  59|     170|        10|\n",
      "|     Bug|  Steel|   7|      75|        69|\n",
      "|   Ghost| Flying|   2|     150|        50|\n",
      "|  Poison|   Dark|   3|     103|        63|\n",
      "|     Bug|   Fire|   2|      85|        60|\n",
      "|   Steel|   Rock|   3|      70|        70|\n",
      "|   Water|  Ghost|   2|     100|        40|\n",
      "|   Steel|  Ghost|   4|      60|        50|\n",
      "|   Water|    Ice|   3|     130|        70|\n",
      "|  Poison|   null|  15|     105|        43|\n",
      "|   Steel|   null|   5|      80|        55|\n",
      "|    Rock|  Steel|   3|      60|        42|\n",
      "|    Rock|Psychic|   2|      70|        55|\n",
      "|Electric|  Steel|   3|      70|        35|\n",
      "|   Steel| Dragon|   1|     100|       120|\n",
      "|    Dark|    Ice|   2|      70|        95|\n",
      "+--------+-------+----+--------+----------+\n",
      "only showing top 20 rows\n",
      "\n"
     ]
    }
   ],
   "source": [
    "from pyspark.sql.functions import sum,avg,max,min,mean,count\n",
    "df.groupby('Type 1','Type 2').agg(count('HP').alias('总数'),\n",
    "                        max('HP').alias('最大HP值'),\n",
    "                        min('Attack').alias('最小攻击力')).show()"
   ]
  },
  {
   "cell_type": "markdown",
   "id": "254f904c-ce5a-4676-9427-84122352838d",
   "metadata": {},
   "source": [
    "在 PySpark DataFrame 上，可以使用 where() 或 filter() 函数来过滤聚合数据的行"
   ]
  },
  {
   "cell_type": "code",
   "execution_count": 39,
   "id": "982e9603-af1c-4eff-9f5f-ecb73d0186fa",
   "metadata": {},
   "outputs": [
    {
     "name": "stdout",
     "output_type": "stream",
     "text": [
      "+--------+-------+----+--------+----------+\n",
      "|  Type 1| Type 2|总数|最大HP值|最小攻击力|\n",
      "+--------+-------+----+--------+----------+\n",
      "|Fighting|Psychic|   3|      60|        40|\n",
      "|Fighting|  Steel|   2|      70|       110|\n",
      "|   Grass|Psychic|   2|      95|        40|\n",
      "|     Bug|  Steel|   7|      75|        69|\n",
      "|   Ghost| Flying|   2|     150|        50|\n",
      "|  Poison|   Dark|   3|     103|        63|\n",
      "|     Bug|   Fire|   2|      85|        60|\n",
      "|   Steel|   Rock|   3|      70|        70|\n",
      "|   Water|  Ghost|   2|     100|        40|\n",
      "|   Steel|  Ghost|   4|      60|        50|\n",
      "|   Water|    Ice|   3|     130|        70|\n",
      "|  Poison|   null|  15|     105|        43|\n",
      "|   Steel|   null|   5|      80|        55|\n",
      "|    Rock|  Steel|   3|      60|        42|\n",
      "|    Rock|Psychic|   2|      70|        55|\n",
      "|   Steel| Dragon|   1|     100|       120|\n",
      "|    Dark|    Ice|   2|      70|        95|\n",
      "|     Bug| Ground|   2|      60|        45|\n",
      "|   Water| Poison|   3|      80|        40|\n",
      "|    Rock|   null|   9|      97|        45|\n",
      "+--------+-------+----+--------+----------+\n",
      "only showing top 20 rows\n",
      "\n"
     ]
    }
   ],
   "source": [
    "from pyspark.sql.functions import sum,avg,max,min,mean,count,col\n",
    "df.groupby('Type 1','Type 2').agg(count('HP').alias('总数'),\n",
    "                        max('HP').alias('最大HP值'),\n",
    "                        min('Attack').alias('最小攻击力')) \\\n",
    "                        .where(col('最小攻击力')>=40).show()"
   ]
  },
  {
   "cell_type": "markdown",
   "id": "03842b9a-0582-45f3-882f-e0929127e15d",
   "metadata": {},
   "source": [
    "##### 步骤4：学习transform的使用\n",
    "\n",
    "返回一个新的 DataFrame。主要用于调用自定义的函数去处理DataFrame。"
   ]
  },
  {
   "cell_type": "code",
   "execution_count": 44,
   "id": "2505a8ec-071c-4d64-a857-b3f111f09cf1",
   "metadata": {},
   "outputs": [
    {
     "name": "stdout",
     "output_type": "stream",
     "text": [
      "+--------------------+------+------+-----+---+------+-------+------+------+-----+----------+---------+\n",
      "|                Name|Type 1|Type 2|Total| HP|Attack|Defense|Sp Atk|Sp Def|Speed|Generation|Legendary|\n",
      "+--------------------+------+------+-----+---+------+-------+------+------+-----+----------+---------+\n",
      "|           Bulbasaur| Grass|Poison|  318| 45|    49|     49|    65|    65|   45|         1|    false|\n",
      "|             Ivysaur| Grass|Poison|  405| 60|    62|     63|    80|    80|   60|         1|    false|\n",
      "|            Venusaur| Grass|Poison|  525| 80|    82|     83|   100|   100|   80|         1|    false|\n",
      "|VenusaurMega Venu...| Grass|Poison|  625| 80|   100|    123|   122|   120|   80|         1|    false|\n",
      "|          Charmander|  Fire|  null|  309| 39|    52|     43|    60|    50|   65|         1|    false|\n",
      "|          Charmeleon|  Fire|  null|  405| 58|    64|     58|    80|    65|   80|         1|    false|\n",
      "|           Charizard|  Fire|Flying|  534| 78|    84|     78|   109|    85|  100|         1|    false|\n",
      "|CharizardMega Cha...|  Fire|Dragon|  634| 78|   130|    111|   130|    85|  100|         1|    false|\n",
      "|CharizardMega Cha...|  Fire|Flying|  634| 78|   104|     78|   159|   115|  100|         1|    false|\n",
      "|            Squirtle| Water|  null|  314| 44|    48|     65|    50|    64|   43|         1|    false|\n",
      "|           Wartortle| Water|  null|  405| 59|    63|     80|    65|    80|   58|         1|    false|\n",
      "|           Blastoise| Water|  null|  530| 79|    83|    100|    85|   105|   78|         1|    false|\n",
      "|BlastoiseMega Bla...| Water|  null|  630| 79|   103|    120|   135|   115|   78|         1|    false|\n",
      "|            Caterpie|   Bug|  null|  195| 45|    30|     35|    20|    20|   45|         1|    false|\n",
      "|             Metapod|   Bug|  null|  205| 50|    20|     55|    25|    25|   30|         1|    false|\n",
      "|          Butterfree|   Bug|Flying|  395| 60|    45|     50|    90|    80|   70|         1|    false|\n",
      "|              Weedle|   Bug|Poison|  195| 40|    35|     30|    20|    20|   50|         1|    false|\n",
      "|              Kakuna|   Bug|Poison|  205| 45|    25|     50|    25|    25|   35|         1|    false|\n",
      "|            Beedrill|   Bug|Poison|  395| 65|    90|     40|    45|    80|   75|         1|    false|\n",
      "|BeedrillMega Beed...|   Bug|Poison|  495| 65|   150|     40|    15|    80|  145|         1|    false|\n",
      "+--------------------+------+------+-----+---+------+-------+------+------+-----+----------+---------+\n",
      "only showing top 20 rows\n",
      "\n"
     ]
    }
   ],
   "source": [
    "df.show()"
   ]
  },
  {
   "cell_type": "code",
   "execution_count": 50,
   "id": "56bdc682-525f-43da-b288-b50e1f1f1c73",
   "metadata": {},
   "outputs": [
    {
     "name": "stdout",
     "output_type": "stream",
     "text": [
      "+------+-------+----------+---+---------+--------------------+------+------+-----+-----+------+------+\n",
      "|Attack|Defense|Generation| HP|Legendary|                Name|Sp Atk|Sp Def|Speed|Total|Type 1|Type 2|\n",
      "+------+-------+----------+---+---------+--------------------+------+------+-----+-----+------+------+\n",
      "|    49|     49|         1| 45|    false|           Bulbasaur|    65|    65|   45|  318| Grass|Poison|\n",
      "|    62|     63|         1| 60|    false|             Ivysaur|    80|    80|   60|  405| Grass|Poison|\n",
      "|    82|     83|         1| 80|    false|            Venusaur|   100|   100|   80|  525| Grass|Poison|\n",
      "|   100|    123|         1| 80|    false|VenusaurMega Venu...|   122|   120|   80|  625| Grass|Poison|\n",
      "|    52|     43|         1| 39|    false|          Charmander|    60|    50|   65|  309|  Fire|  null|\n",
      "|    64|     58|         1| 58|    false|          Charmeleon|    80|    65|   80|  405|  Fire|  null|\n",
      "|    84|     78|         1| 78|    false|           Charizard|   109|    85|  100|  534|  Fire|Flying|\n",
      "|   130|    111|         1| 78|    false|CharizardMega Cha...|   130|    85|  100|  634|  Fire|Dragon|\n",
      "|   104|     78|         1| 78|    false|CharizardMega Cha...|   159|   115|  100|  634|  Fire|Flying|\n",
      "|    48|     65|         1| 44|    false|            Squirtle|    50|    64|   43|  314| Water|  null|\n",
      "|    63|     80|         1| 59|    false|           Wartortle|    65|    80|   58|  405| Water|  null|\n",
      "|    83|    100|         1| 79|    false|           Blastoise|    85|   105|   78|  530| Water|  null|\n",
      "|   103|    120|         1| 79|    false|BlastoiseMega Bla...|   135|   115|   78|  630| Water|  null|\n",
      "|    30|     35|         1| 45|    false|            Caterpie|    20|    20|   45|  195|   Bug|  null|\n",
      "|    20|     55|         1| 50|    false|             Metapod|    25|    25|   30|  205|   Bug|  null|\n",
      "|    45|     50|         1| 60|    false|          Butterfree|    90|    80|   70|  395|   Bug|Flying|\n",
      "|    35|     30|         1| 40|    false|              Weedle|    20|    20|   50|  195|   Bug|Poison|\n",
      "|    25|     50|         1| 45|    false|              Kakuna|    25|    25|   35|  205|   Bug|Poison|\n",
      "|    90|     40|         1| 65|    false|            Beedrill|    45|    80|   75|  395|   Bug|Poison|\n",
      "|   150|     40|         1| 65|    false|BeedrillMega Beed...|    15|    80|  145|  495|   Bug|Poison|\n",
      "+------+-------+----------+---+---------+--------------------+------+------+-----+-----+------+------+\n",
      "only showing top 20 rows\n",
      "\n"
     ]
    }
   ],
   "source": [
    "# def cast_all_to_float(input_df):\n",
    "#     return input_df.select([(col(col_name) + 10) for col_name in input_df.columns])\n",
    "def sort_columns_asc(input_df):\n",
    "    return input_df.select(*sorted(input_df.columns))\n",
    "df.transform(sort_columns_asc).show()\n",
    "\n"
   ]
  },
  {
   "cell_type": "code",
   "execution_count": null,
   "id": "72f86767-cd01-42b9-a3dd-3a5a45becbc6",
   "metadata": {},
   "outputs": [],
   "source": []
  }
 ],
 "metadata": {
  "kernelspec": {
   "display_name": "Python 3 (ipykernel)",
   "language": "python",
   "name": "python3"
  },
  "language_info": {
   "codemirror_mode": {
    "name": "ipython",
    "version": 3
   },
   "file_extension": ".py",
   "mimetype": "text/x-python",
   "name": "python",
   "nbconvert_exporter": "python",
   "pygments_lexer": "ipython3",
   "version": "3.8.10"
  }
 },
 "nbformat": 4,
 "nbformat_minor": 5
}
